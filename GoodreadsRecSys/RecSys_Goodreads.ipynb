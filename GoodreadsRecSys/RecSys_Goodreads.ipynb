{
 "cells": [
  {
   "cell_type": "markdown",
   "metadata": {},
   "source": [
    "# Goodreads book recommendation system using Neural Networks\n",
    "\n",
    "### Option 3 : DL model "
   ]
  },
  {
   "cell_type": "markdown",
   "metadata": {},
   "source": [
    "### About the dataset \n",
    "\n",
    "Goodreads 10k dataset contains ratings for ten thousand popular books found on the internet. In this dataset there are 100 reviews for each book, although some have less - fewer - ratings. Ratings are given from 1 to 5. <br/>\n",
    "Both book IDs and user IDs are contiguous. For books, it ranges from 1-10000, for users, 1-53424. All users have made at least two ratings. Median number of ratings per user is 8. <br/>\n",
    "The main goal of this project is to suggest new books to the user that may interest them to increase the user engagement. \n",
    "\n"
   ]
  },
  {
   "cell_type": "markdown",
   "metadata": {},
   "source": [
    "## Package import"
   ]
  },
  {
   "cell_type": "code",
   "execution_count": 1,
   "metadata": {},
   "outputs": [],
   "source": [
    "import pandas as pd\n",
    "import numpy as np\n",
    "import matplotlib.pyplot as plt\n",
    "import tensorflow as tf\n",
    "\n",
    "%matplotlib inline"
   ]
  },
  {
   "cell_type": "markdown",
   "metadata": {},
   "source": [
    "## Loading dataset"
   ]
  },
  {
   "cell_type": "code",
   "execution_count": 2,
   "metadata": {},
   "outputs": [],
   "source": [
    "ratings_df = pd.read_csv('ratings.csv')\n",
    "books_df = pd.read_csv('books.csv')"
   ]
  },
  {
   "cell_type": "code",
   "execution_count": 3,
   "metadata": {},
   "outputs": [
    {
     "data": {
      "text/html": [
       "<div>\n",
       "<style scoped>\n",
       "    .dataframe tbody tr th:only-of-type {\n",
       "        vertical-align: middle;\n",
       "    }\n",
       "\n",
       "    .dataframe tbody tr th {\n",
       "        vertical-align: top;\n",
       "    }\n",
       "\n",
       "    .dataframe thead th {\n",
       "        text-align: right;\n",
       "    }\n",
       "</style>\n",
       "<table border=\"1\" class=\"dataframe\">\n",
       "  <thead>\n",
       "    <tr style=\"text-align: right;\">\n",
       "      <th></th>\n",
       "      <th>book_id</th>\n",
       "      <th>user_id</th>\n",
       "      <th>rating</th>\n",
       "    </tr>\n",
       "  </thead>\n",
       "  <tbody>\n",
       "    <tr>\n",
       "      <th>0</th>\n",
       "      <td>1</td>\n",
       "      <td>314</td>\n",
       "      <td>5</td>\n",
       "    </tr>\n",
       "    <tr>\n",
       "      <th>1</th>\n",
       "      <td>1</td>\n",
       "      <td>439</td>\n",
       "      <td>3</td>\n",
       "    </tr>\n",
       "    <tr>\n",
       "      <th>2</th>\n",
       "      <td>1</td>\n",
       "      <td>588</td>\n",
       "      <td>5</td>\n",
       "    </tr>\n",
       "    <tr>\n",
       "      <th>3</th>\n",
       "      <td>1</td>\n",
       "      <td>1169</td>\n",
       "      <td>4</td>\n",
       "    </tr>\n",
       "    <tr>\n",
       "      <th>4</th>\n",
       "      <td>1</td>\n",
       "      <td>1185</td>\n",
       "      <td>4</td>\n",
       "    </tr>\n",
       "  </tbody>\n",
       "</table>\n",
       "</div>"
      ],
      "text/plain": [
       "   book_id  user_id  rating\n",
       "0        1      314       5\n",
       "1        1      439       3\n",
       "2        1      588       5\n",
       "3        1     1169       4\n",
       "4        1     1185       4"
      ]
     },
     "execution_count": 3,
     "metadata": {},
     "output_type": "execute_result"
    }
   ],
   "source": [
    "ratings_df.head()"
   ]
  },
  {
   "cell_type": "code",
   "execution_count": 4,
   "metadata": {},
   "outputs": [
    {
     "data": {
      "text/html": [
       "<div>\n",
       "<style scoped>\n",
       "    .dataframe tbody tr th:only-of-type {\n",
       "        vertical-align: middle;\n",
       "    }\n",
       "\n",
       "    .dataframe tbody tr th {\n",
       "        vertical-align: top;\n",
       "    }\n",
       "\n",
       "    .dataframe thead th {\n",
       "        text-align: right;\n",
       "    }\n",
       "</style>\n",
       "<table border=\"1\" class=\"dataframe\">\n",
       "  <thead>\n",
       "    <tr style=\"text-align: right;\">\n",
       "      <th></th>\n",
       "      <th>id</th>\n",
       "      <th>book_id</th>\n",
       "      <th>best_book_id</th>\n",
       "      <th>work_id</th>\n",
       "      <th>books_count</th>\n",
       "      <th>isbn</th>\n",
       "      <th>isbn13</th>\n",
       "      <th>authors</th>\n",
       "      <th>original_publication_year</th>\n",
       "      <th>original_title</th>\n",
       "      <th>...</th>\n",
       "      <th>ratings_count</th>\n",
       "      <th>work_ratings_count</th>\n",
       "      <th>work_text_reviews_count</th>\n",
       "      <th>ratings_1</th>\n",
       "      <th>ratings_2</th>\n",
       "      <th>ratings_3</th>\n",
       "      <th>ratings_4</th>\n",
       "      <th>ratings_5</th>\n",
       "      <th>image_url</th>\n",
       "      <th>small_image_url</th>\n",
       "    </tr>\n",
       "  </thead>\n",
       "  <tbody>\n",
       "    <tr>\n",
       "      <th>0</th>\n",
       "      <td>1</td>\n",
       "      <td>2767052</td>\n",
       "      <td>2767052</td>\n",
       "      <td>2792775</td>\n",
       "      <td>272</td>\n",
       "      <td>439023483</td>\n",
       "      <td>9.780439e+12</td>\n",
       "      <td>Suzanne Collins</td>\n",
       "      <td>2008.0</td>\n",
       "      <td>The Hunger Games</td>\n",
       "      <td>...</td>\n",
       "      <td>4780653</td>\n",
       "      <td>4942365</td>\n",
       "      <td>155254</td>\n",
       "      <td>66715</td>\n",
       "      <td>127936</td>\n",
       "      <td>560092</td>\n",
       "      <td>1481305</td>\n",
       "      <td>2706317</td>\n",
       "      <td>https://images.gr-assets.com/books/1447303603m...</td>\n",
       "      <td>https://images.gr-assets.com/books/1447303603s...</td>\n",
       "    </tr>\n",
       "    <tr>\n",
       "      <th>1</th>\n",
       "      <td>2</td>\n",
       "      <td>3</td>\n",
       "      <td>3</td>\n",
       "      <td>4640799</td>\n",
       "      <td>491</td>\n",
       "      <td>439554934</td>\n",
       "      <td>9.780440e+12</td>\n",
       "      <td>J.K. Rowling, Mary GrandPré</td>\n",
       "      <td>1997.0</td>\n",
       "      <td>Harry Potter and the Philosopher's Stone</td>\n",
       "      <td>...</td>\n",
       "      <td>4602479</td>\n",
       "      <td>4800065</td>\n",
       "      <td>75867</td>\n",
       "      <td>75504</td>\n",
       "      <td>101676</td>\n",
       "      <td>455024</td>\n",
       "      <td>1156318</td>\n",
       "      <td>3011543</td>\n",
       "      <td>https://images.gr-assets.com/books/1474154022m...</td>\n",
       "      <td>https://images.gr-assets.com/books/1474154022s...</td>\n",
       "    </tr>\n",
       "    <tr>\n",
       "      <th>2</th>\n",
       "      <td>3</td>\n",
       "      <td>41865</td>\n",
       "      <td>41865</td>\n",
       "      <td>3212258</td>\n",
       "      <td>226</td>\n",
       "      <td>316015849</td>\n",
       "      <td>9.780316e+12</td>\n",
       "      <td>Stephenie Meyer</td>\n",
       "      <td>2005.0</td>\n",
       "      <td>Twilight</td>\n",
       "      <td>...</td>\n",
       "      <td>3866839</td>\n",
       "      <td>3916824</td>\n",
       "      <td>95009</td>\n",
       "      <td>456191</td>\n",
       "      <td>436802</td>\n",
       "      <td>793319</td>\n",
       "      <td>875073</td>\n",
       "      <td>1355439</td>\n",
       "      <td>https://images.gr-assets.com/books/1361039443m...</td>\n",
       "      <td>https://images.gr-assets.com/books/1361039443s...</td>\n",
       "    </tr>\n",
       "    <tr>\n",
       "      <th>3</th>\n",
       "      <td>4</td>\n",
       "      <td>2657</td>\n",
       "      <td>2657</td>\n",
       "      <td>3275794</td>\n",
       "      <td>487</td>\n",
       "      <td>61120081</td>\n",
       "      <td>9.780061e+12</td>\n",
       "      <td>Harper Lee</td>\n",
       "      <td>1960.0</td>\n",
       "      <td>To Kill a Mockingbird</td>\n",
       "      <td>...</td>\n",
       "      <td>3198671</td>\n",
       "      <td>3340896</td>\n",
       "      <td>72586</td>\n",
       "      <td>60427</td>\n",
       "      <td>117415</td>\n",
       "      <td>446835</td>\n",
       "      <td>1001952</td>\n",
       "      <td>1714267</td>\n",
       "      <td>https://images.gr-assets.com/books/1361975680m...</td>\n",
       "      <td>https://images.gr-assets.com/books/1361975680s...</td>\n",
       "    </tr>\n",
       "    <tr>\n",
       "      <th>4</th>\n",
       "      <td>5</td>\n",
       "      <td>4671</td>\n",
       "      <td>4671</td>\n",
       "      <td>245494</td>\n",
       "      <td>1356</td>\n",
       "      <td>743273567</td>\n",
       "      <td>9.780743e+12</td>\n",
       "      <td>F. Scott Fitzgerald</td>\n",
       "      <td>1925.0</td>\n",
       "      <td>The Great Gatsby</td>\n",
       "      <td>...</td>\n",
       "      <td>2683664</td>\n",
       "      <td>2773745</td>\n",
       "      <td>51992</td>\n",
       "      <td>86236</td>\n",
       "      <td>197621</td>\n",
       "      <td>606158</td>\n",
       "      <td>936012</td>\n",
       "      <td>947718</td>\n",
       "      <td>https://images.gr-assets.com/books/1490528560m...</td>\n",
       "      <td>https://images.gr-assets.com/books/1490528560s...</td>\n",
       "    </tr>\n",
       "  </tbody>\n",
       "</table>\n",
       "<p>5 rows × 23 columns</p>\n",
       "</div>"
      ],
      "text/plain": [
       "   id  book_id  best_book_id  work_id  books_count       isbn        isbn13  \\\n",
       "0   1  2767052       2767052  2792775          272  439023483  9.780439e+12   \n",
       "1   2        3             3  4640799          491  439554934  9.780440e+12   \n",
       "2   3    41865         41865  3212258          226  316015849  9.780316e+12   \n",
       "3   4     2657          2657  3275794          487   61120081  9.780061e+12   \n",
       "4   5     4671          4671   245494         1356  743273567  9.780743e+12   \n",
       "\n",
       "                       authors  original_publication_year  \\\n",
       "0              Suzanne Collins                     2008.0   \n",
       "1  J.K. Rowling, Mary GrandPré                     1997.0   \n",
       "2              Stephenie Meyer                     2005.0   \n",
       "3                   Harper Lee                     1960.0   \n",
       "4          F. Scott Fitzgerald                     1925.0   \n",
       "\n",
       "                             original_title  \\\n",
       "0                          The Hunger Games   \n",
       "1  Harry Potter and the Philosopher's Stone   \n",
       "2                                  Twilight   \n",
       "3                     To Kill a Mockingbird   \n",
       "4                          The Great Gatsby   \n",
       "\n",
       "                         ...                         ratings_count  \\\n",
       "0                        ...                               4780653   \n",
       "1                        ...                               4602479   \n",
       "2                        ...                               3866839   \n",
       "3                        ...                               3198671   \n",
       "4                        ...                               2683664   \n",
       "\n",
       "  work_ratings_count  work_text_reviews_count  ratings_1  ratings_2  \\\n",
       "0            4942365                   155254      66715     127936   \n",
       "1            4800065                    75867      75504     101676   \n",
       "2            3916824                    95009     456191     436802   \n",
       "3            3340896                    72586      60427     117415   \n",
       "4            2773745                    51992      86236     197621   \n",
       "\n",
       "   ratings_3  ratings_4  ratings_5  \\\n",
       "0     560092    1481305    2706317   \n",
       "1     455024    1156318    3011543   \n",
       "2     793319     875073    1355439   \n",
       "3     446835    1001952    1714267   \n",
       "4     606158     936012     947718   \n",
       "\n",
       "                                           image_url  \\\n",
       "0  https://images.gr-assets.com/books/1447303603m...   \n",
       "1  https://images.gr-assets.com/books/1474154022m...   \n",
       "2  https://images.gr-assets.com/books/1361039443m...   \n",
       "3  https://images.gr-assets.com/books/1361975680m...   \n",
       "4  https://images.gr-assets.com/books/1490528560m...   \n",
       "\n",
       "                                     small_image_url  \n",
       "0  https://images.gr-assets.com/books/1447303603s...  \n",
       "1  https://images.gr-assets.com/books/1474154022s...  \n",
       "2  https://images.gr-assets.com/books/1361039443s...  \n",
       "3  https://images.gr-assets.com/books/1361975680s...  \n",
       "4  https://images.gr-assets.com/books/1490528560s...  \n",
       "\n",
       "[5 rows x 23 columns]"
      ]
     },
     "execution_count": 4,
     "metadata": {},
     "output_type": "execute_result"
    }
   ],
   "source": [
    "books_df.head()"
   ]
  },
  {
   "cell_type": "markdown",
   "metadata": {},
   "source": [
    "## Splitting the dataset into train and test set"
   ]
  },
  {
   "cell_type": "code",
   "execution_count": 3,
   "metadata": {},
   "outputs": [],
   "source": [
    "from sklearn.model_selection import train_test_split\n",
    "train, test = train_test_split(ratings_df, test_size=0.2)"
   ]
  },
  {
   "cell_type": "code",
   "execution_count": 4,
   "metadata": {},
   "outputs": [],
   "source": [
    "n_users = len(ratings_df.user_id.unique())\n",
    "n_books = len(ratings_df.book_id.unique())\n",
    "\n",
    "user_index = [x-1 for x in train.user_id.values]\n",
    "book_index = [x-1 for x in train.book_id.values]\n",
    "\n",
    "user_index_test = [x-1 for x in test.user_id.values]\n",
    "book_index_test = [x-1 for x in test.book_id.values]\n",
    "\n",
    "rates = train.rating.values \n",
    "rates_test = test.rating.values\n",
    "\n",
    "num_ratings = len(rates)\n",
    "num_ratings_test = len(rates_test)"
   ]
  },
  {
   "cell_type": "code",
   "execution_count": 5,
   "metadata": {},
   "outputs": [
    {
     "name": "stdout",
     "output_type": "stream",
     "text": [
      "Number of users :  53424 \n",
      " Number of books : 10000\n"
     ]
    }
   ],
   "source": [
    "print(\"Number of users : \",n_users,\"\\n\",\"Number of books :\",n_books)"
   ]
  },
  {
   "cell_type": "markdown",
   "metadata": {},
   "source": [
    "## Collaborative filtering with model-based approach\n",
    "The idea of collaborative filtering is that the users who have agreed in the past tend to also agree in the future. If A and B read similar books, A is more likely to read a book that B has read a book which a random person has read. <br/>\n",
    "\n",
    "#### Neural networks for recommendation \n",
    "We can estimate the ratings of the user for unread books by creating a neural network model for recommendation. \n",
    "In this approach, instead of taking the dot product of user and book embeddings as in matrix factorization models, we concatenate the user and book embeddings to a new input feature to the neural network. This approach helps to learn complex non-linear relationships."
   ]
  },
  {
   "cell_type": "code",
   "execution_count": 6,
   "metadata": {},
   "outputs": [
    {
     "name": "stderr",
     "output_type": "stream",
     "text": [
      "Using TensorFlow backend.\n"
     ]
    },
    {
     "name": "stdout",
     "output_type": "stream",
     "text": [
      "WARNING:tensorflow:From C:\\Users\\Naveena\\Anaconda3\\lib\\site-packages\\tensorflow\\python\\framework\\op_def_library.py:263: colocate_with (from tensorflow.python.framework.ops) is deprecated and will be removed in a future version.\n",
      "Instructions for updating:\n",
      "Colocations handled automatically by placer.\n",
      "WARNING:tensorflow:From C:\\Users\\Naveena\\Anaconda3\\lib\\site-packages\\keras\\backend\\tensorflow_backend.py:3445: calling dropout (from tensorflow.python.ops.nn_ops) with keep_prob is deprecated and will be removed in a future version.\n",
      "Instructions for updating:\n",
      "Please use `rate` instead of `keep_prob`. Rate should be set to `rate = 1 - keep_prob`.\n"
     ]
    }
   ],
   "source": [
    "from keras.layers import Input, Embedding, Flatten, Dot, Dense, Dropout,Concatenate\n",
    "from keras.models import Model\n",
    "\n",
    "n_latent_factors = 5\n",
    "\n",
    "book_input = Input(shape=[1], name=\"Inputlayer-Book\")\n",
    "book_embedding = Embedding(n_books+1, n_latent_factors, name=\"Book-Embedding\")(book_input)\n",
    "book_vec = Flatten(name=\"Flatten-Books\")(book_embedding)\n",
    "book_vec = Dropout(0.2)(book_vec)\n",
    "\n",
    "user_input = Input(shape=[1], name=\"Inputlayer-User\")\n",
    "user_embedding = Embedding(n_users+1, n_latent_factors, name=\"User-Embedding\")(user_input)\n",
    "user_vec = Flatten(name=\"Flatten-Users\")(user_embedding)\n",
    "user_vec = Dropout(0.2)(user_vec)\n",
    "\n",
    "concat = Concatenate(name='Concat',axis=-1)([book_vec, user_vec])\n",
    "concat_dropout = Dropout(0.2)(concat)\n",
    "\n",
    "dense_1 = Dense(50,name='FullyConnectedLayer-1')(concat)\n",
    "dropout_1 = Dropout(0.2,name='Dropout')(dense_1)\n",
    "\n",
    "# dense_2 = keras.layers.Dense(50,name='FullyConnectedLayer-2')(dense_1)\n",
    "# dropout_2 = keras.layers.Dropout(0.2,name='Dropout')(dense_2)\n",
    "\n",
    "dense_2 = Dense(20,name='FullyConnectedLayer-2', activation='relu')(dense_1)\n",
    "result = Dense(1, activation='relu',name='Activation')(dense_2)\n",
    "\n",
    "model = Model([user_input, book_input], result)\n"
   ]
  },
  {
   "cell_type": "code",
   "execution_count": 7,
   "metadata": {},
   "outputs": [
    {
     "name": "stdout",
     "output_type": "stream",
     "text": [
      "__________________________________________________________________________________________________\n",
      "Layer (type)                    Output Shape         Param #     Connected to                     \n",
      "==================================================================================================\n",
      "Inputlayer-Book (InputLayer)    (None, 1)            0                                            \n",
      "__________________________________________________________________________________________________\n",
      "Inputlayer-User (InputLayer)    (None, 1)            0                                            \n",
      "__________________________________________________________________________________________________\n",
      "Book-Embedding (Embedding)      (None, 1, 5)         50005       Inputlayer-Book[0][0]            \n",
      "__________________________________________________________________________________________________\n",
      "User-Embedding (Embedding)      (None, 1, 5)         267125      Inputlayer-User[0][0]            \n",
      "__________________________________________________________________________________________________\n",
      "Flatten-Books (Flatten)         (None, 5)            0           Book-Embedding[0][0]             \n",
      "__________________________________________________________________________________________________\n",
      "Flatten-Users (Flatten)         (None, 5)            0           User-Embedding[0][0]             \n",
      "__________________________________________________________________________________________________\n",
      "dropout_1 (Dropout)             (None, 5)            0           Flatten-Books[0][0]              \n",
      "__________________________________________________________________________________________________\n",
      "dropout_2 (Dropout)             (None, 5)            0           Flatten-Users[0][0]              \n",
      "__________________________________________________________________________________________________\n",
      "Concat (Concatenate)            (None, 10)           0           dropout_1[0][0]                  \n",
      "                                                                 dropout_2[0][0]                  \n",
      "__________________________________________________________________________________________________\n",
      "FullyConnectedLayer-1 (Dense)   (None, 50)           550         Concat[0][0]                     \n",
      "__________________________________________________________________________________________________\n",
      "FullyConnectedLayer-2 (Dense)   (None, 20)           1020        FullyConnectedLayer-1[0][0]      \n",
      "__________________________________________________________________________________________________\n",
      "Activation (Dense)              (None, 1)            21          FullyConnectedLayer-2[0][0]      \n",
      "==================================================================================================\n",
      "Total params: 318,721\n",
      "Trainable params: 318,721\n",
      "Non-trainable params: 0\n",
      "__________________________________________________________________________________________________\n"
     ]
    }
   ],
   "source": [
    "model.summary()"
   ]
  },
  {
   "cell_type": "code",
   "execution_count": 8,
   "metadata": {},
   "outputs": [],
   "source": [
    "# Define accuracy\n",
    "threshold = 1.0\n",
    "\n",
    "def accuracy(desired_rates, predicted_rates):\n",
    "    diff_op = tf.subtract(predicted_rates, desired_rates, name='trainig_diff')\n",
    "    # Just measure the absolute difference against the threshold\n",
    "    good = tf.less(tf.abs(diff_op), threshold)\n",
    "\n",
    "    return tf.reduce_mean(tf.cast(good, tf.float32))\n"
   ]
  },
  {
   "cell_type": "code",
   "execution_count": 9,
   "metadata": {},
   "outputs": [],
   "source": [
    "model.compile('adam', 'mean_squared_error',metrics=['accuracy'])"
   ]
  },
  {
   "cell_type": "code",
   "execution_count": 10,
   "metadata": {},
   "outputs": [
    {
     "name": "stdout",
     "output_type": "stream",
     "text": [
      "WARNING:tensorflow:From C:\\Users\\Naveena\\Anaconda3\\lib\\site-packages\\tensorflow\\python\\ops\\math_ops.py:3066: to_int32 (from tensorflow.python.ops.math_ops) is deprecated and will be removed in a future version.\n",
      "Instructions for updating:\n",
      "Use tf.cast instead.\n",
      "Train on 706863 samples, validate on 78541 samples\n",
      "Epoch 1/10\n",
      "706863/706863 [==============================] - 105s 149us/step - loss: 0.8330 - acc: 0.4209 - val_loss: 0.7291 - val_acc: 0.4514\n",
      "Epoch 2/10\n",
      "706863/706863 [==============================] - 91s 129us/step - loss: 0.7081 - acc: 0.4660 - val_loss: 0.7157 - val_acc: 0.4749\n",
      "Epoch 3/10\n",
      "706863/706863 [==============================] - 90s 127us/step - loss: 0.6859 - acc: 0.4827 - val_loss: 0.7067 - val_acc: 0.4662\n",
      "Epoch 4/10\n",
      "706863/706863 [==============================] - 89s 126us/step - loss: 0.6743 - acc: 0.4914 - val_loss: 0.7098 - val_acc: 0.4578\n",
      "Epoch 5/10\n",
      "706863/706863 [==============================] - 89s 125us/step - loss: 0.6668 - acc: 0.4951 - val_loss: 0.7024 - val_acc: 0.4779\n",
      "Epoch 6/10\n",
      "706863/706863 [==============================] - 93s 132us/step - loss: 0.6604 - acc: 0.4988 - val_loss: 0.7073 - val_acc: 0.4466\n",
      "Epoch 7/10\n",
      "706863/706863 [==============================] - 95s 134us/step - loss: 0.6560 - acc: 0.5007 - val_loss: 0.7075 - val_acc: 0.4553\n",
      "Epoch 8/10\n",
      "706863/706863 [==============================] - 92s 131us/step - loss: 0.6505 - acc: 0.5041 - val_loss: 0.7039 - val_acc: 0.4634\n",
      "Epoch 9/10\n",
      "706863/706863 [==============================] - 863s 1ms/step - loss: 0.6465 - acc: 0.5072 - val_loss: 0.7040 - val_acc: 0.4587\n",
      "Epoch 10/10\n",
      "706863/706863 [==============================] - 103s 146us/step - loss: 0.6420 - acc: 0.5103 - val_loss: 0.7068 - val_acc: 0.4539\n"
     ]
    }
   ],
   "source": [
    "history = model.fit([train.user_id, train.book_id], train.rating, epochs=10, verbose=1, validation_split=0.1)"
   ]
  },
  {
   "cell_type": "code",
   "execution_count": 11,
   "metadata": {},
   "outputs": [
    {
     "data": {
      "image/png": "[encoded data removed]",
      "text/plain": [
       "<Figure size 432x288 with 1 Axes>"
      ]
     },
     "metadata": {
      "needs_background": "light"
     },
     "output_type": "display_data"
    }
   ],
   "source": [
    "def plot_history(history):\n",
    "    pd.Series(history.history['loss']).plot(logy=True, label='Training loss')\n",
    "    pd.Series(history.history['val_loss']).plot(logy=True, label='Validation loss')\n",
    "    \n",
    "    pd.Series(history.history['acc']).plot(logy=True, label='Training accuracy')\n",
    "    pd.Series(history.history['val_acc']).plot(logy=True, label='Validation accuracy')\n",
    "    plt.legend()\n",
    "\n",
    "    plt.xlabel(\"Epoch\")\n",
    "\n",
    "    plt.show()\n",
    "    \n",
    "plot_history(history)"
   ]
  },
  {
   "cell_type": "markdown",
   "metadata": {},
   "source": [
    "## Prediction performance of the recommender system"
   ]
  },
  {
   "cell_type": "code",
   "execution_count": 16,
   "metadata": {},
   "outputs": [
    {
     "name": "stdout",
     "output_type": "stream",
     "text": [
      "Mean Absolute error 0.6642060994077716\n"
     ]
    }
   ],
   "source": [
    "from sklearn.metrics import mean_absolute_error\n",
    "\n",
    "y_actual = test['rating']\n",
    "y_hat = model.predict([test.user_id, test.book_id])\n",
    "print(\"Mean Absolute error\",mean_absolute_error(y_actual, y_hat))\n"
   ]
  },
  {
   "cell_type": "code",
   "execution_count": 14,
   "metadata": {},
   "outputs": [
    {
     "name": "stdout",
     "output_type": "stream",
     "text": [
      "Book embeddings\n",
      "                   0             1             2             3             4\n",
      "count  10001.000000  10001.000000  10001.000000  10001.000000  10001.000000\n",
      "mean      -0.334767      0.134318      0.319102     -0.325442     -0.218406\n",
      "std        0.436948      0.374594      0.421844      0.435721      0.406215\n",
      "min       -2.467843     -1.689174     -1.454585     -2.364446     -2.011856\n",
      "25%       -0.612013     -0.123963      0.041446     -0.596333     -0.460579\n",
      "50%       -0.318778      0.128830      0.307981     -0.303376     -0.181591\n",
      "75%       -0.044336      0.381946      0.589273     -0.031723      0.049603\n",
      "max        1.782866      1.724892      2.201112      1.564523      1.368527\n",
      "User embeddings\n",
      "                   0             1             2             3             4\n",
      "count  53425.000000  53425.000000  53425.000000  53425.000000  53425.000000\n",
      "mean       0.120973      0.127936      0.119290      0.141529      0.113150\n",
      "std        0.330903      0.342123      0.360605      0.382042      0.306070\n",
      "min       -2.221492     -1.850299     -1.901150     -1.436091     -1.880190\n",
      "25%       -0.075135     -0.078035     -0.081839     -0.081855     -0.072422\n",
      "50%        0.101690      0.104973      0.095001      0.102100      0.102199\n",
      "75%        0.285283      0.293093      0.263485      0.286627      0.290519\n",
      "max        1.807642      2.097264      2.064149      2.006989      1.497812\n"
     ]
    }
   ],
   "source": [
    "# Visualizing the embeddings\n",
    "book_em = model.get_layer('Book-Embedding')\n",
    "book_em_weights = book_em.get_weights()[0]\n",
    "print(\"Book embeddings\\n\",pd.DataFrame(book_em_weights).describe())\n",
    "\n",
    "user_em = model.get_layer('User-Embedding')\n",
    "user_em_weights = user_em.get_weights()[0]\n",
    "print(\"User embeddings\\n\",pd.DataFrame(user_em_weights).describe())\n"
   ]
  },
  {
   "cell_type": "code",
   "execution_count": 36,
   "metadata": {},
   "outputs": [
    {
     "data": {
      "text/plain": [
       "0.99999994"
      ]
     },
     "execution_count": 36,
     "metadata": {},
     "output_type": "execute_result"
    }
   ],
   "source": [
    "#Normalizing the similarity\n",
    "book_em_weights = book_em_weights / np.linalg.norm(book_em_weights, axis = 1).reshape((-1, 1))\n",
    "book_em_weights[0][:10]\n",
    "np.sum(np.square(book_em_weights[0]))"
   ]
  },
  {
   "cell_type": "markdown",
   "metadata": {},
   "source": [
    "## Manifold Embeddings\n",
    "\n",
    "TSNE: t-Stochastic Distributed Neighbors Embedding is a method that use the idea of a manifold to map vecotrs to a lower dimensional embedded space.The primary idea behind dimension reduction with a manifold is that there is a lower dimensional representation of the vectors that can still capture the variation between different groups."
   ]
  },
  {
   "cell_type": "code",
   "execution_count": 38,
   "metadata": {},
   "outputs": [
    {
     "data": {
      "text/plain": [
       "(10001, 2)"
      ]
     },
     "execution_count": 38,
     "metadata": {},
     "output_type": "execute_result"
    }
   ],
   "source": [
    "from sklearn.manifold import TSNE\n",
    "import umap as um\n",
    "\n",
    "def reduce_dim(weights, components = 3, method = 'tsne'):\n",
    "#Reduce dimensions of embeddings\n",
    "    return TSNE(components, metric = 'cosine').fit_transform(weights)\n",
    "    \n",
    "    \n",
    "book_r = reduce_dim(book_em_weights, components = 2, method = 'tsne')\n",
    "book_r.shape   "
   ]
  },
  {
   "cell_type": "code",
   "execution_count": 39,
   "metadata": {},
   "outputs": [
    {
     "data": {
      "text/plain": [
       "Text(0.5, 1.0, 'Book Embeddings Visualized with TSNE')"
      ]
     },
     "execution_count": 39,
     "metadata": {},
     "output_type": "execute_result"
    },
    {
     "data": {
      "image/png": "[encoded data removed]",
      "text/plain": [
       "<Figure size 720x576 with 1 Axes>"
      ]
     },
     "metadata": {
      "needs_background": "light"
     },
     "output_type": "display_data"
    }
   ],
   "source": [
    "plt.figure(figsize = (10, 8))\n",
    "plt.plot(book_r[:, 0], book_r[:, 1], 'b.')\n",
    "plt.xlabel('TSNE 1')\n",
    "plt.ylabel('TSNE 2')\n",
    "plt.title('Book Embeddings Visualized with TSNE')"
   ]
  },
  {
   "cell_type": "markdown",
   "metadata": {},
   "source": [
    "## Recommendation function to predict top 5 recommended books based on user rating"
   ]
  },
  {
   "cell_type": "code",
   "execution_count": 42,
   "metadata": {},
   "outputs": [],
   "source": [
    "# Creating dataset for making recommendations with the given user ID\n",
    "def get_recommendations(user_id):\n",
    "    book_data = np.array(list(set(ratings_df.book_id)))\n",
    "    user = np.array([user_id for i in range(len(book_data))])\n",
    "    predictions = model.predict([user, book_data])\n",
    "    predictions = np.array([a[0] for a in predictions])\n",
    "    \n",
    "    recommended_book_ids = (-predictions).argsort()[:5]\n",
    "    return recommended_book_ids"
   ]
  },
  {
   "cell_type": "code",
   "execution_count": 43,
   "metadata": {},
   "outputs": [
    {
     "name": "stdout",
     "output_type": "stream",
     "text": [
      "Recommended book id  [9565 4777 4867 2352 1894]\n"
     ]
    }
   ],
   "source": [
    "#Get recommendations for 10th user\n",
    "recommended_bookids = get_recommendations(10)\n",
    "print(\"Recommended book id \",recommended_bookids)"
   ]
  },
  {
   "cell_type": "code",
   "execution_count": 44,
   "metadata": {},
   "outputs": [
    {
     "name": "stdout",
     "output_type": "stream",
     "text": [
      "        id   book_id  best_book_id   work_id  books_count       isbn  \\\n",
      "1893  1894  17910611      17910611  21865617           59  812984277   \n",
      "2351  2352     10596         10596    955346          110  451191013   \n",
      "4776  4777    426025        426025   2902834           20  675093244   \n",
      "4866  4867   5215879       5215879   5283119           31  425227723   \n",
      "9564  9565  24819476      24819476  44460264           18  316261130   \n",
      "\n",
      "            isbn13                        authors  original_publication_year  \\\n",
      "1893  9.780813e+12                Sophie Kinsella                     2013.0   \n",
      "2351  9.780451e+12  Richard Bachman, Stephen King                     1996.0   \n",
      "4776  9.780675e+12               William Faulkner                     1930.0   \n",
      "4866  9.780425e+12            Laurell K. Hamilton                     2009.0   \n",
      "9564  9.780316e+12               Elin Hilderbrand                     2015.0   \n",
      "\n",
      "        original_title                        ...                          \\\n",
      "1893     Wedding Night                        ...                           \n",
      "2351    The Regulators                        ...                           \n",
      "4776  A Rose for Emily                        ...                           \n",
      "4866        Skin Trade                        ...                           \n",
      "9564     Winter Stroll                        ...                           \n",
      "\n",
      "     ratings_count work_ratings_count  work_text_reviews_count  ratings_1  \\\n",
      "1893         32084              59482                     5165       2495   \n",
      "2351         49405              53263                      903       1642   \n",
      "4776         22629              23045                      419        287   \n",
      "4866         29261              31383                     1081        952   \n",
      "9564          8397               9754                      979        133   \n",
      "\n",
      "      ratings_2  ratings_3  ratings_4  ratings_5  \\\n",
      "1893       8566      21212      17215       9994   \n",
      "2351       5634      16854      15840      13293   \n",
      "4776       1072       4609       8091       8986   \n",
      "4866       2377       6995       9455      11604   \n",
      "9564        640       3133       3971       1877   \n",
      "\n",
      "                                              image_url  \\\n",
      "1893  https://images.gr-assets.com/books/1396634329m...   \n",
      "2351  https://images.gr-assets.com/books/1364033309m...   \n",
      "4776  https://images.gr-assets.com/books/1487468453m...   \n",
      "4866  https://images.gr-assets.com/books/1310494564m...   \n",
      "9564  https://images.gr-assets.com/books/1431957489m...   \n",
      "\n",
      "                                        small_image_url  \n",
      "1893  https://images.gr-assets.com/books/1396634329s...  \n",
      "2351  https://images.gr-assets.com/books/1364033309s...  \n",
      "4776  https://images.gr-assets.com/books/1487468453s...  \n",
      "4866  https://images.gr-assets.com/books/1310494564s...  \n",
      "9564  https://images.gr-assets.com/books/1431957489s...  \n",
      "\n",
      "[5 rows x 23 columns]\n"
     ]
    }
   ],
   "source": [
    "print(books_df[books_df['id'].isin(recommended_bookids)])"
   ]
  },
  {
   "cell_type": "code",
   "execution_count": 45,
   "metadata": {},
   "outputs": [
    {
     "name": "stdout",
     "output_type": "stream",
     "text": [
      "User rating [25780] for book [6022]:4 predicted rating : [4.447914]\n",
      "User rating [49965] for book [6318]:4 predicted rating : [3.8467383]\n",
      "User rating [446] for book [2620]:4 predicted rating : [4.085537]\n",
      "User rating [10227] for book [2040]:3 predicted rating : [3.9780366]\n",
      "User rating [47919] for book [9159]:4 predicted rating : [3.8990319]\n",
      "User rating [38327] for book [7339]:4 predicted rating : [3.3844733]\n",
      "User rating [20553] for book [9117]:3 predicted rating : [2.527225]\n",
      "User rating [50063] for book [1797]:3 predicted rating : [3.4109037]\n",
      "User rating [12465] for book [106]:2 predicted rating : [4.068985]\n",
      "User rating [15726] for book [1053]:4 predicted rating : [3.5762374]\n"
     ]
    }
   ],
   "source": [
    "# Average rating prediction on Test data \n",
    "nr_sampled_users = 10\n",
    "\n",
    "for index in np.random.choice(range(len(user_index_test)), size=nr_sampled_users):\n",
    "    u = [user_index_test[index]]\n",
    "    b = [book_index_test[index]]\n",
    "    r = rates_test[index]\n",
    "\n",
    "    rhat = model.predict([u, b]) \n",
    "\n",
    "    print (\"User rating \" + str(u) + \" for book \" + str(b) + \":\" + str(r) + \" predicted rating : \" + str(rhat[0]))"
   ]
  },
  {
   "cell_type": "code",
   "execution_count": 46,
   "metadata": {},
   "outputs": [
    {
     "name": "stdout",
     "output_type": "stream",
     "text": [
      "Mean absolute error on the test set: 0.8926977981956532\n",
      "Root Mean squared error on the test set: 1.1009010741922263\n"
     ]
    }
   ],
   "source": [
    "from sklearn.metrics import mean_absolute_error,mean_squared_error\n",
    "\n",
    "def compute_error(model, user_index_test, book_index_test):\n",
    "    ypred = model.predict([user_index_test, book_index_test])\n",
    "    mae = mean_absolute_error(rates_test, ypred)\n",
    "    rmse = np.sqrt(mean_squared_error(rates_test,ypred))\n",
    "    return mae,rmse\n",
    "\n",
    "mae,rmse = compute_error(model, user_index_test, book_index_test)\n",
    "print(\"Mean absolute error on the test set: {}\".format(mae))\n",
    "print(\"Root Mean squared error on the test set: {}\".format(rmse))\n"
   ]
  },
  {
   "cell_type": "code",
   "execution_count": 54,
   "metadata": {},
   "outputs": [],
   "source": [
    "def create_recommendations(model, df, listOfUsers, nrRecommendations):\n",
    "    \n",
    "    book_index = np.array(np.unique(df.book_id.values))-1\n",
    "    recommendations_set = {}\n",
    "    \n",
    "    for user in listOfUsers:\n",
    "        user_index = np.ones(len(book_index)) * user\n",
    "        predicted_rates = model.predict([user_index, book_index])\n",
    "        \n",
    "        ranked_books_idx = np.argsort(predicted_rates, axis=0)[::-1].squeeze()\n",
    "        ranked_books = book_index[ranked_books_idx] \n",
    "        recommendations_set[user] = ranked_books[:nrRecommendations]\n",
    "        \n",
    "    return recommendations_set\n",
    "\n"
   ]
  },
  {
   "cell_type": "code",
   "execution_count": 56,
   "metadata": {},
   "outputs": [
    {
     "name": "stdout",
     "output_type": "stream",
     "text": [
      "{0: array([4868, 3628, 5580, 4483, 9566, 7947, 6590, 8946, 9076, 9842],\n",
      "      dtype=int64), 1: array([4868, 3628, 5580, 4483, 9566, 7947, 6590, 8946, 9076, 9842],\n",
      "      dtype=int64), 2: array([9566, 4868, 4483, 5580, 4778, 6590, 3628, 3395, 2353, 6642],\n",
      "      dtype=int64), 3: array([4868, 8548, 5580, 3885, 9566, 3628, 1380, 2865, 7593, 7401],\n",
      "      dtype=int64), 4: array([9566, 4868, 4483, 6590, 5580, 4778, 2353, 3395,  862, 3628],\n",
      "      dtype=int64), 5: array([9566, 4868, 4483, 5580, 3395, 4778, 6590, 3628, 2353, 6642],\n",
      "      dtype=int64), 6: array([9566, 4868, 4483, 5580, 6590, 3628, 3395, 2353, 6642, 4778],\n",
      "      dtype=int64), 7: array([4868, 3628, 5580, 9566, 7947, 8548, 4483, 7593, 3395, 6590],\n",
      "      dtype=int64), 8: array([9566, 4868, 6590, 4483, 5580, 3395, 2353, 8854,  862, 6361],\n",
      "      dtype=int64), 9: array([4868, 3628, 5580, 9566, 7947, 4483, 8548, 7593, 3395, 6590],\n",
      "      dtype=int64)}\n"
     ]
    }
   ],
   "source": [
    "recommendations_set = create_recommendations(model,test,range(10),10)\n",
    "print(recommendations_set)"
   ]
  },
  {
   "cell_type": "markdown",
   "metadata": {},
   "source": [
    "## Ranking metrics\n"
   ]
  },
  {
   "cell_type": "code",
   "execution_count": 62,
   "metadata": {},
   "outputs": [],
   "source": [
    "def create_validation_set(df, minRate=3.5, k=5):\n",
    "    validation_set = {}\n",
    "    \n",
    "    for user in np.unique(df['user_id'].values) - 1:\n",
    "        rated_books = df[df['user_id'] == user]['book_id'].values -1\n",
    "        rates = df[df['user_id'] == user]['rating'].values\n",
    "\n",
    "        best_ranked_books = rated_books[np.where(rates > minRate)[0]]\n",
    "        if len(best_ranked_books) >= k:\n",
    "            validation_set[user] = best_ranked_books\n",
    "            \n",
    "    return validation_set\n",
    "\n",
    "\n",
    "\n",
    "def precisionAtK(validations_set, recommendations_set, k=5):\n",
    "    \n",
    "    res = []\n",
    "    for user in validations_set.keys():\n",
    "        \n",
    "        v = validations_set[user]\n",
    "        r = recommendations_set[user][:k]\n",
    "        \n",
    "        ans = len(np.intersect1d(v, r)) / k\n",
    "        res.append(ans)\n",
    "\n",
    "    return np.mean(res)\n",
    "\n",
    "\n",
    "def compute_precisionAtK_from_recommendations(model, df_test, nrRecommendations, k, validation_set=None):\n",
    "#Compute precisionAtK from recommendations and validation set. Generate recommendations applying 'model' to dataset 'df_test'.\n",
    "     \n",
    "    \n",
    "    if validation_set is None:\n",
    "        validation_set = create_validation_set(df_test, minRate=3.5, k=k)\n",
    "        \n",
    "    recommendations_set = create_recommendations(model, df_test,validation_set.keys(), nrRecommendations=nrRecommendations)\n",
    "    precision = precisionAtK(validation_set, recommendations_set, k=k)\n",
    "    \n",
    "    return precision\n"
   ]
  },
  {
   "cell_type": "code",
   "execution_count": 60,
   "metadata": {},
   "outputs": [],
   "source": [
    "validation_set = create_validation_set(test, minRate=3.5, k=5)"
   ]
  },
  {
   "cell_type": "code",
   "execution_count": 63,
   "metadata": {},
   "outputs": [
    {
     "name": "stdout",
     "output_type": "stream",
     "text": [
      "Precision@5 is 0.0006196746707978311\n"
     ]
    }
   ],
   "source": [
    "k=5\n",
    "precision = compute_precisionAtK_from_recommendations(model, test,nrRecommendations=5, k=k,validation_set=validation_set)\n",
    "print(\"Precision@{} is {}\".format(k, precision))"
   ]
  }
 ],
 "metadata": {
  "kernelspec": {
   "display_name": "Python 3",
   "language": "python",
   "name": "python3"
  },
  "language_info": {
   "codemirror_mode": {
    "name": "ipython",
    "version": 3
   },
   "file_extension": ".py",
   "mimetype": "text/x-python",
   "name": "python",
   "nbconvert_exporter": "python",
   "pygments_lexer": "ipython3",
   "version": "3.7.1"
  }
 },
 "nbformat": 4,
 "nbformat_minor": 2
}
