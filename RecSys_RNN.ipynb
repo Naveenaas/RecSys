{
  "nbformat": 4,
  "nbformat_minor": 0,
  "metadata": {
    "colab": {
      "name": "RecSys_RNN.ipynb",
      "provenance": [],
      "collapsed_sections": []
    },
    "kernelspec": {
      "name": "python3",
      "display_name": "Python 3"
    },
    "accelerator": "GPU"
  },
  "cells": [
    {
      "cell_type": "code",
      "metadata": {
        "id": "2uh9IoxoSWkv",
        "colab_type": "code",
        "colab": {}
      },
      "source": [
        "import pandas as pd\n",
        "import itertools\n",
        "import collections\n",
        "import numpy as np\n",
        "import pandas as pd\n",
        "from typing import List\n",
        "import sys\n",
        "\n",
        "from tensorflow import keras\n",
        "from keras.preprocessing.sequence import pad_sequences\n",
        "from keras.layers import *\n",
        "from keras import Sequential\n",
        "import tensorflow as tf"
      ],
      "execution_count": 0,
      "outputs": []
    },
    {
      "cell_type": "code",
      "metadata": {
        "id": "lCXIHuYYS4YK",
        "colab_type": "code",
        "colab": {}
      },
      "source": [
        "def loaddata(path):\n",
        "    sessions_df = pd.read_csv(path, sep=\",\", header=None)\n",
        "    print(sessions_df.columns)\n",
        "    sessions_df.columns = [\"session_id\", \"timestamp\", \"item_id\", \"category\"]\n",
        "    sessions_df[\"timestamp\"] = pd.to_datetime(sessions_df[\"timestamp\"])\n",
        "    return sessions_df"
      ],
      "execution_count": 0,
      "outputs": []
    },
    {
      "cell_type": "code",
      "metadata": {
        "id": "2jWbX8xqS_yt",
        "colab_type": "code",
        "colab": {
          "base_uri": "https://localhost:8080/",
          "height": 34
        },
        "outputId": "3af9e20e-6be6-42bd-8969-85ddb8384b2b"
      },
      "source": [
        "url = \"https://www.dropbox.com/s/urf0v28umc7afg2/yoochoose-clicks-sample.dat?dl=1\"\n",
        "sessions_df = loaddata(url)"
      ],
      "execution_count": 4,
      "outputs": [
        {
          "output_type": "stream",
          "text": [
            "Int64Index([0, 1, 2, 3], dtype='int64')\n"
          ],
          "name": "stdout"
        }
      ]
    },
    {
      "cell_type": "code",
      "metadata": {
        "id": "VEGeRFfkTUF7",
        "colab_type": "code",
        "colab": {
          "base_uri": "https://localhost:8080/",
          "height": 134
        },
        "outputId": "b90105ca-c7e0-47cc-bca4-2ed356cb2e66"
      },
      "source": [
        "print(\"Shape of the dataframe \",sessions_df.shape,\"\\n\",sessions_df.head())"
      ],
      "execution_count": 5,
      "outputs": [
        {
          "output_type": "stream",
          "text": [
            "Shape of the dataframe  (5000000, 4) \n",
            "    session_id                        timestamp    item_id  category\n",
            "0           1 2014-04-07 10:51:09.277000+00:00  214536502         0\n",
            "1           1 2014-04-07 10:54:09.868000+00:00  214536500         0\n",
            "2           1 2014-04-07 10:54:46.998000+00:00  214536506         0\n",
            "3           1 2014-04-07 10:57:00.306000+00:00  214577561         0\n",
            "4           2 2014-04-07 13:56:37.614000+00:00  214662742         0\n"
          ],
          "name": "stdout"
        }
      ]
    },
    {
      "cell_type": "code",
      "metadata": {
        "id": "h7moz_BHUH0J",
        "colab_type": "code",
        "colab": {}
      },
      "source": [
        "def build_sessions(sessions_df,max_products=1000,min_session_size=3):\n",
        "    print(\"Session Dataframe length before grouping\", len(sessions_df))\n",
        "    \n",
        "    all_items = sessions_df[\"item_id\"].values\n",
        "    items_counter = collections.Counter(all_items)\n",
        "    most_common_items = dict(items_counter.most_common(max_products))\n",
        "    ids_to_indices = dict((item_id, i+1) for i, item_id in enumerate(most_common_items.keys()))\n",
        "    \n",
        "    session_dictionary = sessions_df.to_dict(orient='records')\n",
        "    grouped_sessions = itertools.groupby(session_dictionary, lambda d: d[\"session_id\"])\n",
        "    sessions = []\n",
        "    \n",
        "    for _, session in grouped_sessions:\n",
        "        item_list = [d[\"item_id\"] for d in sorted(list(session), key=lambda x: x[\"timestamp\"])]\n",
        "        item_list = [ids_to_indices[item] for item in item_list if item in ids_to_indices]\n",
        "        if len(item_list) >= min_session_size:\n",
        "            sessions.append(item_list)\n",
        "    \n",
        "    print(\"Sessions count \", len(sessions))\n",
        "    \n",
        "    return sessions, most_common_items"
      ],
      "execution_count": 0,
      "outputs": []
    },
    {
      "cell_type": "code",
      "metadata": {
        "id": "S4W--aHEV31E",
        "colab_type": "code",
        "colab": {
          "base_uri": "https://localhost:8080/",
          "height": 50
        },
        "outputId": "d6ed36bc-ba49-46f6-d80c-c1f2e976e684"
      },
      "source": [
        "sessions, most_common_items = build_sessions(sessions_df)"
      ],
      "execution_count": 17,
      "outputs": [
        {
          "output_type": "stream",
          "text": [
            "Session Dataframe length before grouping 5000000\n",
            "Sessions count  447161\n"
          ],
          "name": "stdout"
        }
      ]
    },
    {
      "cell_type": "code",
      "metadata": {
        "id": "6aN7_LPuV-rC",
        "colab_type": "code",
        "colab": {
          "base_uri": "https://localhost:8080/",
          "height": 34
        },
        "outputId": "810e2b35-8a05-4735-a500-c92376410b03"
      },
      "source": [
        "max_session_length = 100\n",
        "padded_sessions = pad_sequences(sessions,maxlen=max_session_length, padding='post', truncating='pre', value=0)\n",
        "print(\"Shape of padded session \",padded_sessions.shape)\n",
        "padded_sessions = np.array(padded_sessions)"
      ],
      "execution_count": 41,
      "outputs": [
        {
          "output_type": "stream",
          "text": [
            "Shape of padded session  (447161, 100)\n"
          ],
          "name": "stdout"
        }
      ]
    },
    {
      "cell_type": "code",
      "metadata": {
        "id": "HYGGqrH0WozL",
        "colab_type": "code",
        "colab": {
          "base_uri": "https://localhost:8080/",
          "height": 336
        },
        "outputId": "83e26ec2-5347-4097-fee5-425a102b7f20"
      },
      "source": [
        "vocab_size = len(most_common_items) + 1\n",
        "embedding_size = 20\n",
        "input_length = max_session_length - 1\n",
        "\n",
        "model = Sequential()\n",
        "model.add(Masking(mask_value=0, input_shape=(input_length, )))\n",
        "model.add(Embedding(vocab_size, embedding_size, input_length=input_length, mask_zero=True))\n",
        "model.add(LSTM(100, return_sequences=True))\n",
        "model.add(LSTM(200, return_sequences=True))\n",
        "model.add(TimeDistributed(Dense(vocab_size, activation='softmax')))\n",
        "print(model.summary())"
      ],
      "execution_count": 43,
      "outputs": [
        {
          "output_type": "stream",
          "text": [
            "Model: \"sequential_3\"\n",
            "_________________________________________________________________\n",
            "Layer (type)                 Output Shape              Param #   \n",
            "=================================================================\n",
            "masking_3 (Masking)          (None, 99)                0         \n",
            "_________________________________________________________________\n",
            "embedding_3 (Embedding)      (None, 99, 20)            20020     \n",
            "_________________________________________________________________\n",
            "lstm_3 (LSTM)                (None, 99, 100)           48400     \n",
            "_________________________________________________________________\n",
            "lstm_4 (LSTM)                (None, 99, 200)           240800    \n",
            "_________________________________________________________________\n",
            "time_distributed_3 (TimeDist (None, 99, 1001)          201201    \n",
            "=================================================================\n",
            "Total params: 510,421\n",
            "Trainable params: 510,421\n",
            "Non-trainable params: 0\n",
            "_________________________________________________________________\n",
            "None\n"
          ],
          "name": "stdout"
        }
      ]
    },
    {
      "cell_type": "code",
      "metadata": {
        "id": "BMRVUNt6xbuV",
        "colab_type": "code",
        "colab": {}
      },
      "source": [
        "def categorical_accuracy_sequential(y_true, y_pred):\n",
        "    y_true = tf.squeeze(y_true)\n",
        "    padding_mask = tf.greater(y_true, 0)\n",
        "    \n",
        "    y_pred = tf.argmax(y_pred, axis=-1)\n",
        "    y_pred = tf.cast(y_pred, tf.float32)\n",
        "\n",
        "    match = tf.cast(tf.equal(y_true, y_pred), tf.float32)\n",
        "\n",
        "    match_masked = match * tf.cast(padding_mask, tf.float32)\n",
        "    return tf.reduce_sum(match_masked) / tf.reduce_sum(tf.cast(padding_mask, tf.float32))"
      ],
      "execution_count": 0,
      "outputs": []
    },
    {
      "cell_type": "code",
      "metadata": {
        "id": "e3Hd4Pmw0fR_",
        "colab_type": "code",
        "colab": {}
      },
      "source": [
        "X = padded_sessions[:, :-1]\n",
        "y = np.expand_dims(padded_sessions[:, 1:], -1)"
      ],
      "execution_count": 0,
      "outputs": []
    },
    {
      "cell_type": "code",
      "metadata": {
        "id": "aZq5bQOo0jPE",
        "colab_type": "code",
        "colab": {
          "base_uri": "https://localhost:8080/",
          "height": 104
        },
        "outputId": "a95079ba-76b7-4241-dca7-3af1bbb3a1d5"
      },
      "source": [
        "model.compile(\"adam\", loss=\"sparse_categorical_crossentropy\", metrics=[categorical_accuracy_sequential])\n",
        "model.fit(x=X, y=y, validation_split=0.1, batch_size=32)"
      ],
      "execution_count": 46,
      "outputs": [
        {
          "output_type": "stream",
          "text": [
            "Train on 402444 samples, validate on 44717 samples\n",
            "Epoch 1/1\n",
            "402444/402444 [==============================] - 7112s 18ms/step - loss: 3.7286 - categorical_accuracy_sequential: 0.1038 - val_loss: 3.1984 - val_categorical_accuracy_sequential: 0.1528\n"
          ],
          "name": "stdout"
        },
        {
          "output_type": "execute_result",
          "data": {
            "text/plain": [
              "<keras.callbacks.History at 0x7f755abd0b38>"
            ]
          },
          "metadata": {
            "tags": []
          },
          "execution_count": 46
        }
      ]
    },
    {
      "cell_type": "code",
      "metadata": {
        "id": "5P_Xe0To06Hc",
        "colab_type": "code",
        "colab": {}
      },
      "source": [
        ""
      ],
      "execution_count": 0,
      "outputs": []
    },
    {
      "cell_type": "code",
      "metadata": {
        "id": "29_IILY28MXC",
        "colab_type": "code",
        "colab": {}
      },
      "source": [
        ""
      ],
      "execution_count": 0,
      "outputs": []
    }
  ]
}